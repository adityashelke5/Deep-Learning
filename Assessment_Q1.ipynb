{
 "cells": [
  {
   "cell_type": "code",
   "execution_count": 1,
   "metadata": {},
   "outputs": [],
   "source": [
    "#20MAI0024\n",
    "#ADITYA SHELKE\n",
    "\n",
    "import numpy as np"
   ]
  },
  {
   "cell_type": "code",
   "execution_count": 2,
   "metadata": {
    "colab": {
     "base_uri": "https://localhost:8080/",
     "height": 0
    },
    "id": "HbOTeNMh8qHt",
    "outputId": "82df8f25-db7b-4211-9ebc-7d09ff1d162f"
   },
   "outputs": [
    {
     "name": "stdout",
     "output_type": "stream",
     "text": [
      "Training input values without Bias\n",
      " ([2, 3], [5, 6], [8, 9])\n"
     ]
    }
   ],
   "source": [
    "\r\n",
    "values = ([2,3],[5,6],[8,9])\r\n",
    "print(\"Training input values without Bias\\n\", values)\r\n"
   ]
  },
  {
   "cell_type": "code",
   "execution_count": 3,
   "metadata": {
    "colab": {
     "base_uri": "https://localhost:8080/",
     "height": 0
    },
    "id": "rx0MTKwI8unj",
    "outputId": "a223dad8-9f11-4b00-dd4f-623c424261e4"
   },
   "outputs": [
    {
     "name": "stdout",
     "output_type": "stream",
     "text": [
      "Training input values with bias in it\n",
      " [[-1  2  3]\n",
      " [-1  5  6]\n",
      " [-1  8  9]]\n"
     ]
    }
   ],
   "source": [
    "#Adding Bias to the input values\r\n",
    "test2 = [[-1]] * len(values)\r\n",
    "values = np.concatenate((test2, values), axis = 1)  \r\n",
    "print(\"Training input values with bias in it\\n\",values)\r\n"
   ]
  },
  {
   "cell_type": "code",
   "execution_count": 4,
   "metadata": {
    "colab": {
     "base_uri": "https://localhost:8080/",
     "height": 0
    },
    "id": "ALYqqA5V81M5",
    "outputId": "31c478ca-eaf4-44ee-f4da-64ba8ae60de0"
   },
   "outputs": [
    {
     "name": "stdout",
     "output_type": "stream",
     "text": [
      "Initial random weights\n",
      " [[-0.46289061]\n",
      " [-0.41591814]\n",
      " [-0.4899877 ]]\n"
     ]
    }
   ],
   "source": [
    "#Creating random weights\r\n",
    "m=3     #number of elements in each row of inputs\r\n",
    "n=1 \r\n",
    "weights = np.random.rand(m,n)*0.1 - 0.5\r\n",
    "print(\"Initial random weights\\n\",weights)\r\n"
   ]
  },
  {
   "cell_type": "code",
   "execution_count": 5,
   "metadata": {
    "colab": {
     "base_uri": "https://localhost:8080/",
     "height": 0
    },
    "id": "rrrbzXJh84-r",
    "outputId": "772e1a11-2c1a-4d2a-c0d3-eb0f7cc2e80b"
   },
   "outputs": [
    {
     "name": "stdout",
     "output_type": "stream",
     "text": [
      "Training data target values are\n",
      " ([0], [1], [1])\n"
     ]
    }
   ],
   "source": [
    "\r\n",
    "#Target values Matrix\r\n",
    "final = ([0],[1],[1])\r\n",
    "print(\"Training data target values are\\n\", final)\r\n"
   ]
  },
  {
   "cell_type": "code",
   "execution_count": 6,
   "metadata": {
    "id": "DRDmcE5f8817"
   },
   "outputs": [],
   "source": [
    "#Method for updating weights\r\n",
    "def updateWeights(weights, inputs, activation, targets):\r\n",
    "    eta = 0.25\r\n",
    "    weights += eta*np.dot(np.transpose(inputs), targets - activation)\r\n",
    "    return weights\r\n"
   ]
  },
  {
   "cell_type": "code",
   "execution_count": 7,
   "metadata": {
    "id": "hYAhRnay9o0C"
   },
   "outputs": [],
   "source": [
    "#Creating Methods for Learning\r\n",
    "def  prediction (inputs, weights, targets):\r\n",
    "    #representing Activation function with 'ack [[]]' variable\r\n",
    "    ack = [[0]] * len(inputs)\r\n",
    "    for i in range(0, len(inputs)):    \r\n",
    "        for j in range(0,len(weights)):\r\n",
    "            ack[i] += inputs[i][j] * weights[j]\r\n",
    "        ack[i] = np.where(ack[i]>0, 1, 0)\r\n",
    "        #checking values with target\r\n",
    "        if(targets[i] != ack[i]):\r\n",
    "            weights = updateWeights(weights, inputs, ack[i], targets)\r\n",
    "        print(ack[i])\r\n",
    "    return weights\r\n"
   ]
  },
  {
   "cell_type": "code",
   "execution_count": 8,
   "metadata": {
    "colab": {
     "base_uri": "https://localhost:8080/",
     "height": 0
    },
    "id": "bBYJigWp9wGu",
    "outputId": "1a76a2bb-6249-4f71-ecd2-23753369baa1"
   },
   "outputs": [
    {
     "name": "stdout",
     "output_type": "stream",
     "text": [
      "\n",
      "Iteration  1 \n",
      "\n",
      "[0]\n",
      "[0]\n",
      "[1]\n",
      "\n",
      "Iteration  2 \n",
      "\n",
      "[1]\n",
      "[1]\n",
      "[1]\n",
      "\n",
      "Iteration  3 \n",
      "\n",
      "[1]\n",
      "[1]\n",
      "[1]\n",
      "\n",
      "Iteration  4 \n",
      "\n",
      "[1]\n",
      "[1]\n",
      "[1]\n",
      "\n",
      "Iteration  5 \n",
      "\n",
      "[1]\n",
      "[1]\n",
      "[1]\n",
      "\n",
      "Trained Weights\n",
      " [[0.03710939]\n",
      " [0.83408186]\n",
      " [0.2600123 ]]\n"
     ]
    }
   ],
   "source": [
    "#Training our model and extracting stable weights\r\n",
    "iterations = 5\r\n",
    "for temp in range(0, iterations):\r\n",
    "    print(\"\\nIteration \",temp+1,\"\\n\")\r\n",
    "    weights = prediction(values, weights, final)\r\n",
    "    \r\n",
    "print(\"\\nTrained Weights\\n\", weights)\r\n"
   ]
  },
  {
   "cell_type": "code",
   "execution_count": 9,
   "metadata": {
    "colab": {
     "base_uri": "https://localhost:8080/"
    },
    "id": "UKBgt8FK92K0",
    "outputId": "69551d0a-c021-4e4f-e7db-0cc354cf0751"
   },
   "outputs": [
    {
     "name": "stdout",
     "output_type": "stream",
     "text": [
      "[1]\n"
     ]
    }
   ],
   "source": [
    "#Testing our own data\r\n",
    "def perceptronPredict(weights, newInput):\r\n",
    "    ac = np.dot(newInput, weights)\r\n",
    "    ac = np.where(ac>0, 1, 0)\r\n",
    "    print(ac)\r\n",
    "\r\n",
    "\r\n",
    "newInput = ([-1.0, 7, 8])\r\n",
    "perceptronPredict(weights, newInput)"
   ]
  },
  {
   "cell_type": "code",
   "execution_count": 13,
   "metadata": {},
   "outputs": [
    {
     "data": {
      "text/html": [
       "<a href=\"https://github.com/adityashelke5/Deep-Learning.git\">Github_Link</a>"
      ],
      "text/plain": [
       "<IPython.core.display.HTML object>"
      ]
     },
     "metadata": {},
     "output_type": "display_data"
    }
   ],
   "source": [
    "\n",
    "from IPython.core.display import display, HTML\n",
    "display(HTML(\"\"\"<a href=\"https://github.com/adityashelke5/Deep-Learning.git\">Github_Link</a>\"\"\"))"
   ]
  },
  {
   "cell_type": "code",
   "execution_count": null,
   "metadata": {},
   "outputs": [],
   "source": []
  }
 ],
 "metadata": {
  "colab": {
   "authorship_tag": "ABX9TyOH3coKVw+lsNfNXLGL6uel",
   "collapsed_sections": [],
   "include_colab_link": true,
   "name": "Assessment - 1_question_1.ipynb",
   "provenance": []
  },
  "kernelspec": {
   "display_name": "Python 3",
   "language": "python",
   "name": "python3"
  },
  "language_info": {
   "codemirror_mode": {
    "name": "ipython",
    "version": 3
   },
   "file_extension": ".py",
   "mimetype": "text/x-python",
   "name": "python",
   "nbconvert_exporter": "python",
   "pygments_lexer": "ipython3",
   "version": "3.8.5"
  }
 },
 "nbformat": 4,
 "nbformat_minor": 4
}
